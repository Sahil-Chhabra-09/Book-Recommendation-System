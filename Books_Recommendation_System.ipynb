{
  "cells": [
    {
      "cell_type": "markdown",
      "metadata": {
        "id": "view-in-github",
        "colab_type": "text"
      },
      "source": [
        "<a href=\"https://colab.research.google.com/github/Sahil-Chhabra-09/Book-Recommendation-System/blob/main/Books_Recommendation_System.ipynb\" target=\"_parent\"><img src=\"https://colab.research.google.com/assets/colab-badge.svg\" alt=\"Open In Colab\"/></a>"
      ]
    },
    {
      "cell_type": "markdown",
      "source": [
        "# Books Recommendation System based on Cosine Similarity"
      ],
      "metadata": {
        "id": "FNFdNiffWRJh"
      }
    },
    {
      "cell_type": "code",
      "execution_count": 60,
      "metadata": {
        "id": "V-OFbYv0vFai"
      },
      "outputs": [],
      "source": [
        "import pandas as pd\n",
        "data = pd.read_csv(\"/content/drive/MyDrive/Book Recommendation System/BooksData.xlsx\")"
      ]
    },
    {
      "cell_type": "code",
      "execution_count": 61,
      "metadata": {
        "colab": {
          "base_uri": "https://localhost:8080/",
          "height": 223
        },
        "id": "SmF5bVAY0gUa",
        "outputId": "228297b7-ef8f-4c69-f83f-5ba397f3fe7f"
      },
      "outputs": [
        {
          "output_type": "stream",
          "name": "stdout",
          "text": [
            "(16559, 7)\n"
          ]
        },
        {
          "output_type": "execute_result",
          "data": {
            "text/plain": [
              "   Unnamed: 0  Index    ID                                  BookTitle  \\\n",
              "0           0      1   620                                Animal Farm   \n",
              "1           1      2   843                         A Clockwork Orange   \n",
              "2           2      3   986                                 The Plague   \n",
              "3           3      4  1756  An Enquiry Concerning Human Understanding   \n",
              "4           4      5  2080                       A Fire Upon the Deep   \n",
              "\n",
              "            Author                                              Genre  \\\n",
              "0    George Orwell  {\"/m/016lj8\": \"Roman \\u00e0 clef\", \"/m/06nbt\":...   \n",
              "1  Anthony Burgess  {\"/m/06n90\": \"Science Fiction\", \"/m/0l67h\": \"N...   \n",
              "2     Albert Camus  {\"/m/02m4t\": \"Existentialism\", \"/m/02xlf\": \"Fi...   \n",
              "3       David Hume                                                NaN   \n",
              "4     Vernor Vinge  {\"/m/03lrw\": \"Hard science fiction\", \"/m/06n90...   \n",
              "\n",
              "                                             Summary  \n",
              "0   Old Major, the old boar on the Manor Farm, ca...  \n",
              "1   Alex, a teenager living in near-future Englan...  \n",
              "2   The text of The Plague is divided into five p...  \n",
              "3   The argument of the Enquiry proceeds by a ser...  \n",
              "4   The novel posits that space around the Milky ...  "
            ],
            "text/html": [
              "\n",
              "  <div id=\"df-9fe0e5ae-5f1a-4ee7-8ce7-395bb4ff5d66\">\n",
              "    <div class=\"colab-df-container\">\n",
              "      <div>\n",
              "<style scoped>\n",
              "    .dataframe tbody tr th:only-of-type {\n",
              "        vertical-align: middle;\n",
              "    }\n",
              "\n",
              "    .dataframe tbody tr th {\n",
              "        vertical-align: top;\n",
              "    }\n",
              "\n",
              "    .dataframe thead th {\n",
              "        text-align: right;\n",
              "    }\n",
              "</style>\n",
              "<table border=\"1\" class=\"dataframe\">\n",
              "  <thead>\n",
              "    <tr style=\"text-align: right;\">\n",
              "      <th></th>\n",
              "      <th>Unnamed: 0</th>\n",
              "      <th>Index</th>\n",
              "      <th>ID</th>\n",
              "      <th>BookTitle</th>\n",
              "      <th>Author</th>\n",
              "      <th>Genre</th>\n",
              "      <th>Summary</th>\n",
              "    </tr>\n",
              "  </thead>\n",
              "  <tbody>\n",
              "    <tr>\n",
              "      <th>0</th>\n",
              "      <td>0</td>\n",
              "      <td>1</td>\n",
              "      <td>620</td>\n",
              "      <td>Animal Farm</td>\n",
              "      <td>George Orwell</td>\n",
              "      <td>{\"/m/016lj8\": \"Roman \\u00e0 clef\", \"/m/06nbt\":...</td>\n",
              "      <td>Old Major, the old boar on the Manor Farm, ca...</td>\n",
              "    </tr>\n",
              "    <tr>\n",
              "      <th>1</th>\n",
              "      <td>1</td>\n",
              "      <td>2</td>\n",
              "      <td>843</td>\n",
              "      <td>A Clockwork Orange</td>\n",
              "      <td>Anthony Burgess</td>\n",
              "      <td>{\"/m/06n90\": \"Science Fiction\", \"/m/0l67h\": \"N...</td>\n",
              "      <td>Alex, a teenager living in near-future Englan...</td>\n",
              "    </tr>\n",
              "    <tr>\n",
              "      <th>2</th>\n",
              "      <td>2</td>\n",
              "      <td>3</td>\n",
              "      <td>986</td>\n",
              "      <td>The Plague</td>\n",
              "      <td>Albert Camus</td>\n",
              "      <td>{\"/m/02m4t\": \"Existentialism\", \"/m/02xlf\": \"Fi...</td>\n",
              "      <td>The text of The Plague is divided into five p...</td>\n",
              "    </tr>\n",
              "    <tr>\n",
              "      <th>3</th>\n",
              "      <td>3</td>\n",
              "      <td>4</td>\n",
              "      <td>1756</td>\n",
              "      <td>An Enquiry Concerning Human Understanding</td>\n",
              "      <td>David Hume</td>\n",
              "      <td>NaN</td>\n",
              "      <td>The argument of the Enquiry proceeds by a ser...</td>\n",
              "    </tr>\n",
              "    <tr>\n",
              "      <th>4</th>\n",
              "      <td>4</td>\n",
              "      <td>5</td>\n",
              "      <td>2080</td>\n",
              "      <td>A Fire Upon the Deep</td>\n",
              "      <td>Vernor Vinge</td>\n",
              "      <td>{\"/m/03lrw\": \"Hard science fiction\", \"/m/06n90...</td>\n",
              "      <td>The novel posits that space around the Milky ...</td>\n",
              "    </tr>\n",
              "  </tbody>\n",
              "</table>\n",
              "</div>\n",
              "      <button class=\"colab-df-convert\" onclick=\"convertToInteractive('df-9fe0e5ae-5f1a-4ee7-8ce7-395bb4ff5d66')\"\n",
              "              title=\"Convert this dataframe to an interactive table.\"\n",
              "              style=\"display:none;\">\n",
              "        \n",
              "  <svg xmlns=\"http://www.w3.org/2000/svg\" height=\"24px\"viewBox=\"0 0 24 24\"\n",
              "       width=\"24px\">\n",
              "    <path d=\"M0 0h24v24H0V0z\" fill=\"none\"/>\n",
              "    <path d=\"M18.56 5.44l.94 2.06.94-2.06 2.06-.94-2.06-.94-.94-2.06-.94 2.06-2.06.94zm-11 1L8.5 8.5l.94-2.06 2.06-.94-2.06-.94L8.5 2.5l-.94 2.06-2.06.94zm10 10l.94 2.06.94-2.06 2.06-.94-2.06-.94-.94-2.06-.94 2.06-2.06.94z\"/><path d=\"M17.41 7.96l-1.37-1.37c-.4-.4-.92-.59-1.43-.59-.52 0-1.04.2-1.43.59L10.3 9.45l-7.72 7.72c-.78.78-.78 2.05 0 2.83L4 21.41c.39.39.9.59 1.41.59.51 0 1.02-.2 1.41-.59l7.78-7.78 2.81-2.81c.8-.78.8-2.07 0-2.86zM5.41 20L4 18.59l7.72-7.72 1.47 1.35L5.41 20z\"/>\n",
              "  </svg>\n",
              "      </button>\n",
              "      \n",
              "  <style>\n",
              "    .colab-df-container {\n",
              "      display:flex;\n",
              "      flex-wrap:wrap;\n",
              "      gap: 12px;\n",
              "    }\n",
              "\n",
              "    .colab-df-convert {\n",
              "      background-color: #E8F0FE;\n",
              "      border: none;\n",
              "      border-radius: 50%;\n",
              "      cursor: pointer;\n",
              "      display: none;\n",
              "      fill: #1967D2;\n",
              "      height: 32px;\n",
              "      padding: 0 0 0 0;\n",
              "      width: 32px;\n",
              "    }\n",
              "\n",
              "    .colab-df-convert:hover {\n",
              "      background-color: #E2EBFA;\n",
              "      box-shadow: 0px 1px 2px rgba(60, 64, 67, 0.3), 0px 1px 3px 1px rgba(60, 64, 67, 0.15);\n",
              "      fill: #174EA6;\n",
              "    }\n",
              "\n",
              "    [theme=dark] .colab-df-convert {\n",
              "      background-color: #3B4455;\n",
              "      fill: #D2E3FC;\n",
              "    }\n",
              "\n",
              "    [theme=dark] .colab-df-convert:hover {\n",
              "      background-color: #434B5C;\n",
              "      box-shadow: 0px 1px 3px 1px rgba(0, 0, 0, 0.15);\n",
              "      filter: drop-shadow(0px 1px 2px rgba(0, 0, 0, 0.3));\n",
              "      fill: #FFFFFF;\n",
              "    }\n",
              "  </style>\n",
              "\n",
              "      <script>\n",
              "        const buttonEl =\n",
              "          document.querySelector('#df-9fe0e5ae-5f1a-4ee7-8ce7-395bb4ff5d66 button.colab-df-convert');\n",
              "        buttonEl.style.display =\n",
              "          google.colab.kernel.accessAllowed ? 'block' : 'none';\n",
              "\n",
              "        async function convertToInteractive(key) {\n",
              "          const element = document.querySelector('#df-9fe0e5ae-5f1a-4ee7-8ce7-395bb4ff5d66');\n",
              "          const dataTable =\n",
              "            await google.colab.kernel.invokeFunction('convertToInteractive',\n",
              "                                                     [key], {});\n",
              "          if (!dataTable) return;\n",
              "\n",
              "          const docLinkHtml = 'Like what you see? Visit the ' +\n",
              "            '<a target=\"_blank\" href=https://colab.research.google.com/notebooks/data_table.ipynb>data table notebook</a>'\n",
              "            + ' to learn more about interactive tables.';\n",
              "          element.innerHTML = '';\n",
              "          dataTable['output_type'] = 'display_data';\n",
              "          await google.colab.output.renderOutput(dataTable, element);\n",
              "          const docLink = document.createElement('div');\n",
              "          docLink.innerHTML = docLinkHtml;\n",
              "          element.appendChild(docLink);\n",
              "        }\n",
              "      </script>\n",
              "    </div>\n",
              "  </div>\n",
              "  "
            ]
          },
          "metadata": {},
          "execution_count": 61
        }
      ],
      "source": [
        "print(data.shape)\n",
        "data.head()"
      ]
    },
    {
      "cell_type": "code",
      "execution_count": 62,
      "metadata": {
        "colab": {
          "base_uri": "https://localhost:8080/"
        },
        "id": "XqEeKCXQ0lfw",
        "outputId": "4d7553b1-0ff5-4eb3-eedc-0aed285456aa"
      },
      "outputs": [
        {
          "output_type": "execute_result",
          "data": {
            "text/plain": [
              "Unnamed: 0       0\n",
              "Index            0\n",
              "ID               0\n",
              "BookTitle        0\n",
              "Author        2382\n",
              "Genre         3718\n",
              "Summary          0\n",
              "dtype: int64"
            ]
          },
          "metadata": {},
          "execution_count": 62
        }
      ],
      "source": [
        "data.isna().sum()"
      ]
    },
    {
      "cell_type": "code",
      "execution_count": 63,
      "metadata": {
        "id": "LZitsNn60mw5"
      },
      "outputs": [],
      "source": [
        "data = data.drop(data[data['Genre'].isna()].index)\n",
        "data = data.drop(data[data['Author'].isna()].index)"
      ]
    },
    {
      "cell_type": "code",
      "execution_count": 64,
      "metadata": {
        "colab": {
          "base_uri": "https://localhost:8080/"
        },
        "id": "GKLj393z1Cep",
        "outputId": "3892ebe5-2dcd-462d-cfc0-c19fe492d0a9"
      },
      "outputs": [
        {
          "output_type": "execute_result",
          "data": {
            "text/plain": [
              "Unnamed: 0    0\n",
              "Index         0\n",
              "ID            0\n",
              "BookTitle     0\n",
              "Author        0\n",
              "Genre         0\n",
              "Summary       0\n",
              "dtype: int64"
            ]
          },
          "metadata": {},
          "execution_count": 64
        }
      ],
      "source": [
        "data.isna().sum()"
      ]
    },
    {
      "cell_type": "code",
      "execution_count": 65,
      "metadata": {
        "colab": {
          "base_uri": "https://localhost:8080/"
        },
        "id": "Y-f1OKD508Ca",
        "outputId": "b3512aa5-cbdf-443c-ea6e-e3fac79e08a9"
      },
      "outputs": [
        {
          "output_type": "execute_result",
          "data": {
            "text/plain": [
              "(12055, 7)"
            ]
          },
          "metadata": {},
          "execution_count": 65
        }
      ],
      "source": [
        "data.shape"
      ]
    },
    {
      "cell_type": "code",
      "execution_count": 66,
      "metadata": {
        "colab": {
          "base_uri": "https://localhost:8080/",
          "height": 244
        },
        "id": "Ujt8BQJ51lzY",
        "outputId": "1cefd056-7086-47cf-e282-5ed0f9905cd7"
      },
      "outputs": [
        {
          "output_type": "stream",
          "name": "stdout",
          "text": [
            "0        {\"/m/016lj8\": \"Roman \\u00e0 clef\", \"/m/06nbt\":...\n",
            "1        {\"/m/06n90\": \"Science Fiction\", \"/m/0l67h\": \"N...\n",
            "2        {\"/m/02m4t\": \"Existentialism\", \"/m/02xlf\": \"Fi...\n",
            "4        {\"/m/03lrw\": \"Hard science fiction\", \"/m/06n90...\n",
            "5        {\"/m/098tmk\": \"War novel\", \"/m/016lj8\": \"Roman...\n",
            "                               ...                        \n",
            "16549                      {\"/m/06n90\": \"Science Fiction\"}\n",
            "16551    {\"/m/01jfsb\": \"Thriller\", \"/m/02xlf\": \"Fiction...\n",
            "16555     {\"/m/01jfsb\": \"Thriller\", \"/m/02xlf\": \"Fiction\"}\n",
            "16556                         {\"/m/0xdf\": \"Autobiography\"}\n",
            "16558    {\"/m/02ql9\": \"Epistolary novel\", \"/m/014dfn\": ...\n",
            "Name: Genre, Length: 12055, dtype: object\n"
          ]
        },
        {
          "output_type": "execute_result",
          "data": {
            "text/plain": [
              "'{\"/m/016lj8\": \"Roman \\\\u00e0 clef\", \"/m/06nbt\": \"Satire\", \"/m/0dwly\": \"Children\\'s literature\", \"/m/014dfn\": \"Speculative fiction\", \"/m/02xlf\": \"Fiction\"}'"
            ],
            "application/vnd.google.colaboratory.intrinsic+json": {
              "type": "string"
            }
          },
          "metadata": {},
          "execution_count": 66
        }
      ],
      "source": [
        "print(data.Genre)\n",
        "data.Genre[0]   #Genre was in the form of a json object"
      ]
    },
    {
      "cell_type": "code",
      "execution_count": 67,
      "metadata": {
        "colab": {
          "base_uri": "https://localhost:8080/"
        },
        "id": "cwlQ24IJ182t",
        "outputId": "a649007d-c2e0-4e0b-e313-cf236b0a4a9b"
      },
      "outputs": [
        {
          "output_type": "execute_result",
          "data": {
            "text/plain": [
              "[['Roman à clef',\n",
              "  'Satire',\n",
              "  \"Children's literature\",\n",
              "  'Speculative fiction',\n",
              "  'Fiction'],\n",
              " ['Science Fiction',\n",
              "  'Novella',\n",
              "  'Speculative fiction',\n",
              "  'Utopian and dystopian fiction',\n",
              "  'Satire',\n",
              "  'Fiction'],\n",
              " ['Existentialism', 'Fiction', 'Absurdist fiction', 'Novel'],\n",
              " ['Hard science fiction',\n",
              "  'Science Fiction',\n",
              "  'Speculative fiction',\n",
              "  'Fantasy',\n",
              "  'Fiction'],\n",
              " ['War novel', 'Roman à clef'],\n",
              " [\"Children's literature\",\n",
              "  'Fantasy',\n",
              "  'Speculative fiction',\n",
              "  'Bildungsroman',\n",
              "  'Fiction'],\n",
              " ['Science Fiction', 'Speculative fiction'],\n",
              " ['Science Fiction', 'Speculative fiction'],\n",
              " ['Speculative fiction', 'Fiction', 'Novel'],\n",
              " ['Science Fiction',\n",
              "  'Speculative fiction',\n",
              "  \"Children's literature\",\n",
              "  'Fiction']]"
            ]
          },
          "metadata": {},
          "execution_count": 67
        }
      ],
      "source": [
        "import json\n",
        "genres_cleaned = []\n",
        "for i in data['Genre']:\n",
        "    genres_cleaned.append(list(json.loads(i).values()))   #converts json string to dictionary which is further converted into list\n",
        "genres_cleaned[0:10]"
      ]
    },
    {
      "cell_type": "code",
      "execution_count": 68,
      "metadata": {
        "id": "mOpFPt0R2PEz"
      },
      "outputs": [],
      "source": [
        "data['Genre'] = genres_cleaned"
      ]
    },
    {
      "cell_type": "code",
      "execution_count": 69,
      "metadata": {
        "colab": {
          "base_uri": "https://localhost:8080/",
          "height": 123
        },
        "id": "c1uG2B3B2ejw",
        "outputId": "e3ea4546-823f-48e9-b3e9-e7f0d23d537a"
      },
      "outputs": [
        {
          "output_type": "execute_result",
          "data": {
            "text/plain": [
              "' Old Major, the old boar on the Manor Farm, calls the animals on the farm for a meeting, where he compares the humans to parasites and teaches the animals a revolutionary song, \\'Beasts of England\\'. When Major dies, two young pigs, Snowball and Napoleon, assume command and turn his dream into a philosophy. The animals revolt and drive the drunken and irresponsible Mr Jones from the farm, renaming it \"Animal Farm\". They adopt Seven Commandments of Animal-ism, the most important of which is, \"All animals are equal\". Snowball attempts to teach the animals reading and writing; food is plentiful, and the farm runs smoothly. The pigs elevate themselves to positions of leadership and set aside special food items, ostensibly for their personal health. Napoleon takes the pups from the farm dogs and trains them privately. Napoleon and Snowball struggle for leadership. When Snowball announces his plans to build a windmill, Napoleon has his dogs chase Snowball away and declares himself leader. Napoleon enacts changes to the governance structure of the farm, replacing meetings with a committee of pigs, who will run the farm. Using a young pig named Squealer as a \"mouthpiece\", Napoleon claims credit for the windmill idea. The animals work harder with the promise of easier lives with the windmill. After a violent storm, the animals find the windmill annihilated. Napoleon and Squealer convince the animals that Snowball destroyed it, although the scorn of the neighbouring farmers suggests that its walls were too thin. Once Snowball becomes a scapegoat, Napoleon begins purging the farm with his dogs, killing animals he accuses of consorting with his old rival. He and the pigs abuse their power, imposing more control while reserving privileges for themselves and rewriting history, villainising Snowball and glorifying Napoleon. Squealer justifies every statement Napoleon makes, even the pigs\\' alteration of the Seven Commandments of Animalism to benefit themselves. \\'Beasts of England\\' is replaced by an anthem glorifying Napoleon, who appears to be adopting the lifestyle of a man. The animals remain convinced that they are better off than they were when under Mr Jones. Squealer abuses the animals\\' poor memories and invents numbers to show their improvement. Mr Frederick, one of the neighbouring farmers, attacks the farm, using blasting powder to blow up the restored windmill. Though the animals win the battle, they do so at great cost, as many, including Boxer the workhorse, are wounded. Despite his injuries, Boxer continues working harder and harder, until he collapses while working on the windmill. Napoleon sends for a van to take Boxer to the veterinary surgeon\\'s, explaining that better care can be given there. Benjamin, the cynical donkey, who \"could read as well as any pig\", notices that the van belongs to a knacker, and attempts to mount a rescue; but the animals\\' attempts are futile. Squealer reports that the van was purchased by the hospital and the writing from the previous owner had not been repainted. He recounts a tale of Boxer\\'s death in the hands of the best medical care. Years pass, and the pigs learn to walk upright, carry whips and wear clothes. The Seven Commandments are reduced to a single phrase: \"All animals are equal, but some animals are more equal than others\". Napoleon holds a dinner party for the pigs and the humans of the area, who congratulate Napoleon on having the hardest-working but least fed animals in the country. Napoleon announces an alliance with the humans, against the labouring classes of both \"worlds\". He abolishes practices and traditions related to the Revolution, and changes the name of the farm to \"The Manor Farm\". The animals, overhearing the conversation, notice that the faces of the pigs have begun changing. During a poker match, an argument breaks out between Napoleon and Mr Pilkington, and the animals realise that the faces of the pigs look like the faces of humans, and no one can tell the difference between them. The pigs Snowball, Napoleon, and Squealer adapt Old Major\\'s ideas into an actual philosophy, which they formally name Animalism. Soon after, Napoleon and Squealer indulge in the vices of humans (drinking alcohol, sleeping in beds, trading). Squealer is employed to alter the Seven Commandments to account for this humanisation, an allusion to the Soviet government\\'s revising of history in order to exercise control of the people\\'s beliefs about themselves and their society. The original commandments are: # Whatever goes upon two legs is an enemy. # Whatever goes upon four legs, or has wings, is a friend. # No animal shall wear clothes. # No animal shall sleep in a bed. # No animal shall drink alcohol. # No animal shall kill any other animal. # All animals are equal. Later, Napoleon and his pigs secretly revise some commandments to clear them of accusations of law-breaking (such as \"No animal shall drink alcohol\" having \"to excess\" appended to it and \"No animal shall sleep in a bed\" with \"with sheets\" added to it). The changed commandments are as follows, with the changes bolded: * 4 No animal shall sleep in a bed with sheets. * 5 No animal shall drink alcohol to excess. * 6 No animal shall kill any other animal without cause. Eventually these are replaced with the maxims, \"All animals are equal, but some animals are more equal than others\", and \"Four legs good, two legs better!\" as the pigs become more human. This is an ironic twist to the original purpose of the Seven Commandments, which were supposed to keep order within Animal Farm by uniting the animals together against the humans, and prevent animals from following the humans\\' evil habits. Through the revision of the commandments, Orwell demonstrates how simply political dogma can be turned into malleable propaganda.'"
            ],
            "application/vnd.google.colaboratory.intrinsic+json": {
              "type": "string"
            }
          },
          "metadata": {},
          "execution_count": 69
        }
      ],
      "source": [
        "data.Summary[0]"
      ]
    },
    {
      "cell_type": "code",
      "execution_count": 70,
      "metadata": {
        "colab": {
          "base_uri": "https://localhost:8080/"
        },
        "id": "jNkoXTvV2WEm",
        "outputId": "ca29237f-e6cc-4f77-ee1e-83cf415e01c1"
      },
      "outputs": [
        {
          "output_type": "stream",
          "name": "stdout",
          "text": [
            "old major the old boar on the manor farm calls the animals on the farm for a meeting where he compares the humans to parasites and teaches the animals a revolutionary song beasts of england when major dies two young pigs snowball and napoleon assume command and turn his dream into a philosophy the animals revolt and drive the drunken and irresponsible mr jones from the farm renaming it animal farm they adopt seven commandments of animal ism the most important of which is all animals are equal snowball attempts to teach the animals reading and writing food is plentiful and the farm runs smoothly the pigs elevate themselves to positions of leadership and set aside special food items ostensibly for their personal health napoleon takes the pups from the farm dogs and trains them privately napoleon and snowball struggle for leadership when snowball announces his plans to build a windmill napoleon has his dogs chase snowball away and declares himself leader napoleon enacts changes to the governance structure of the farm replacing meetings with a committee of pigs who will run the farm using a young pig named squealer as a mouthpiece napoleon claims credit for the windmill idea the animals work harder with the promise of easier lives with the windmill after a violent storm the animals find the windmill annihilated napoleon and squealer convince the animals that snowball destroyed it although the scorn of the neighbouring farmers suggests that its walls were too thin once snowball becomes a scapegoat napoleon begins purging the farm with his dogs killing animals he accuses of consorting with his old rival he and the pigs abuse their power imposing more control while reserving privileges for themselves and rewriting history villainising snowball and glorifying napoleon squealer justifies every statement napoleon makes even the pigs alteration of the seven commandments of animalism to benefit themselves beasts of england is replaced by an anthem glorifying napoleon who appears to be adopting the lifestyle of a man the animals remain convinced that they are better off than they were when under mr jones squealer abuses the animals poor memories and invents numbers to show their improvement mr frederick one of the neighbouring farmers attacks the farm using blasting powder to blow up the restored windmill though the animals win the battle they do so at great cost as many including boxer the workhorse are wounded despite his injuries boxer continues working harder and harder until he collapses while working on the windmill napoleon sends for a van to take boxer to the veterinary surgeons explaining that better care can be given there benjamin the cynical donkey who could read as well as any pig notices that the van belongs to a knacker and attempts to mount a rescue but the animals attempts are futile squealer reports that the van was purchased by the hospital and the writing from the previous owner had not been repainted he recounts a tale of boxers death in the hands of the best medical care years pass and the pigs learn to walk upright carry whips and wear clothes the seven commandments are reduced to a single phrase all animals are equal but some animals are more equal than others napoleon holds a dinner party for the pigs and the humans of the area who congratulate napoleon on having the hardest working but least fed animals in the country napoleon announces an alliance with the humans against the labouring classes of both worlds he abolishes practices and traditions related to the revolution and changes the name of the farm to the manor farm the animals overhearing the conversation notice that the faces of the pigs have begun changing during a poker match an argument breaks out between napoleon and mr pilkington and the animals realise that the faces of the pigs look like the faces of humans and no one can tell the difference between them the pigs snowball napoleon and squealer adapt old majors ideas into an actual philosophy which they formally name animalism soon after napoleon and squealer indulge in the vices of humans drinking alcohol sleeping in beds trading squealer is employed to alter the seven commandments to account for this humanisation an allusion to the soviet governments revising of history in order to exercise control of the peoples beliefs about themselves and their society the original commandments are whatever goes upon two legs is an enemy whatever goes upon four legs or has wings is a friend no animal shall wear clothes no animal shall sleep in a bed no animal shall drink alcohol no animal shall kill any other animal all animals are equal later napoleon and his pigs secretly revise some commandments to clear them of accusations of law breaking such as no animal shall drink alcohol having to excess appended to it and no animal shall sleep in a bed with with sheets added to it the changed commandments are as follows with the changes bolded no animal shall sleep in a bed with sheets no animal shall drink alcohol to excess no animal shall kill any other animal without cause eventually these are replaced with the maxims all animals are equal but some animals are more equal than others and four legs good two legs better as the pigs become more human this is an ironic twist to the original purpose of the seven commandments which were supposed to keep order within animal farm by uniting the animals together against the humans and prevent animals from following the humans evil habits through the revision of the commandments orwell demonstrates how simply political dogma can be turned into malleable propaganda\n"
          ]
        }
      ],
      "source": [
        "import re   #regular expression matching\n",
        "def clean_summary(text):\n",
        "    text = re.sub(\"\\'\", \"\", text)\n",
        "    text = re.sub(\"[^a-zA-Z]\",\" \",text)     #means any character that IS NOT a-z OR A-Z\n",
        "    text = ' '.join(text.split())\n",
        "    text = text.lower()\n",
        "    return text\n",
        "\n",
        "print(data['Summary'].apply(lambda x: clean_summary(x))[0])\n",
        "data['Summary'] = data['Summary'].apply(lambda x: clean_summary(x))"
      ]
    },
    {
      "cell_type": "code",
      "source": [
        "import nltk\n",
        "nltk.download('stopwords')\n",
        "from nltk.corpus import stopwords"
      ],
      "metadata": {
        "colab": {
          "base_uri": "https://localhost:8080/"
        },
        "id": "E8oGFf8JbEn0",
        "outputId": "d6595d9a-69a2-4c6c-b027-1e5a3ee6b756"
      },
      "execution_count": 71,
      "outputs": [
        {
          "output_type": "stream",
          "name": "stderr",
          "text": [
            "[nltk_data] Downloading package stopwords to /root/nltk_data...\n",
            "[nltk_data]   Package stopwords is already up-to-date!\n"
          ]
        }
      ]
    },
    {
      "cell_type": "code",
      "source": [
        "data['GenreString'] = data['Genre'].apply(lambda x: ' '.join(x))"
      ],
      "metadata": {
        "id": "RztVh7ReaLCF"
      },
      "execution_count": 72,
      "outputs": []
    },
    {
      "cell_type": "code",
      "source": [
        "data['GenreString'][0]"
      ],
      "metadata": {
        "colab": {
          "base_uri": "https://localhost:8080/",
          "height": 36
        },
        "id": "0GRK_GoNaN4j",
        "outputId": "fb77999d-197a-42ea-ca7f-2922b5f24dc3"
      },
      "execution_count": 73,
      "outputs": [
        {
          "output_type": "execute_result",
          "data": {
            "text/plain": [
              "\"Roman à clef Satire Children's literature Speculative fiction Fiction\""
            ],
            "application/vnd.google.colaboratory.intrinsic+json": {
              "type": "string"
            }
          },
          "metadata": {},
          "execution_count": 73
        }
      ]
    },
    {
      "cell_type": "code",
      "source": [
        "#get a combined text that includes author's name and associated genres\n",
        "data[\"combined_text\"] = data[\"Summary\"] + \" \" + data[\"Author\"] + \" \" + data[\"GenreString\"]"
      ],
      "metadata": {
        "id": "QV-9Qw38auRw"
      },
      "execution_count": 74,
      "outputs": []
    },
    {
      "cell_type": "code",
      "source": [
        "data[\"combined_text\"]"
      ],
      "metadata": {
        "colab": {
          "base_uri": "https://localhost:8080/"
        },
        "id": "T9vtPne4Xu-r",
        "outputId": "70027498-e521-4bf6-cae1-26356d7b6ee0"
      },
      "execution_count": 75,
      "outputs": [
        {
          "output_type": "execute_result",
          "data": {
            "text/plain": [
              "0        old major the old boar on the manor farm calls...\n",
              "1        alex a teenager living in near future england ...\n",
              "2        the text of the plague is divided into five pa...\n",
              "4        the novel posits that space around the milky w...\n",
              "5        the book tells the story of paul b umer a germ...\n",
              "                               ...                        \n",
              "16549    the story starts with former government agent ...\n",
              "16551    the series follows the character of nick stone...\n",
              "16555    the reader first meets rapp while he is doing ...\n",
              "16556    the book follows very rough chronological orde...\n",
              "16558    makar devushkin and varvara dobroselova are se...\n",
              "Name: combined_text, Length: 12055, dtype: object"
            ]
          },
          "metadata": {},
          "execution_count": 75
        }
      ]
    },
    {
      "cell_type": "code",
      "source": [
        "# removing stopwords\n",
        "stopwords_english = stopwords.words(\"english\")\n",
        "data['text_without_stopwords'] = data['combined_text'].apply(lambda x: ' '.join([word for word in x.split() if word not in (stopwords_english)]))\n",
        "data['text_without_stopwords'][0]"
      ],
      "metadata": {
        "colab": {
          "base_uri": "https://localhost:8080/",
          "height": 123
        },
        "id": "wfLuHI3iaxNu",
        "outputId": "c789963f-3b82-4ef4-e26a-bbaec454e274"
      },
      "execution_count": 76,
      "outputs": [
        {
          "output_type": "execute_result",
          "data": {
            "text/plain": [
              "\"old major old boar manor farm calls animals farm meeting compares humans parasites teaches animals revolutionary song beasts england major dies two young pigs snowball napoleon assume command turn dream philosophy animals revolt drive drunken irresponsible mr jones farm renaming animal farm adopt seven commandments animal ism important animals equal snowball attempts teach animals reading writing food plentiful farm runs smoothly pigs elevate positions leadership set aside special food items ostensibly personal health napoleon takes pups farm dogs trains privately napoleon snowball struggle leadership snowball announces plans build windmill napoleon dogs chase snowball away declares leader napoleon enacts changes governance structure farm replacing meetings committee pigs run farm using young pig named squealer mouthpiece napoleon claims credit windmill idea animals work harder promise easier lives windmill violent storm animals find windmill annihilated napoleon squealer convince animals snowball destroyed although scorn neighbouring farmers suggests walls thin snowball becomes scapegoat napoleon begins purging farm dogs killing animals accuses consorting old rival pigs abuse power imposing control reserving privileges rewriting history villainising snowball glorifying napoleon squealer justifies every statement napoleon makes even pigs alteration seven commandments animalism benefit beasts england replaced anthem glorifying napoleon appears adopting lifestyle man animals remain convinced better mr jones squealer abuses animals poor memories invents numbers show improvement mr frederick one neighbouring farmers attacks farm using blasting powder blow restored windmill though animals win battle great cost many including boxer workhorse wounded despite injuries boxer continues working harder harder collapses working windmill napoleon sends van take boxer veterinary surgeons explaining better care given benjamin cynical donkey could read well pig notices van belongs knacker attempts mount rescue animals attempts futile squealer reports van purchased hospital writing previous owner repainted recounts tale boxers death hands best medical care years pass pigs learn walk upright carry whips wear clothes seven commandments reduced single phrase animals equal animals equal others napoleon holds dinner party pigs humans area congratulate napoleon hardest working least fed animals country napoleon announces alliance humans labouring classes worlds abolishes practices traditions related revolution changes name farm manor farm animals overhearing conversation notice faces pigs begun changing poker match argument breaks napoleon mr pilkington animals realise faces pigs look like faces humans one tell difference pigs snowball napoleon squealer adapt old majors ideas actual philosophy formally name animalism soon napoleon squealer indulge vices humans drinking alcohol sleeping beds trading squealer employed alter seven commandments account humanisation allusion soviet governments revising history order exercise control peoples beliefs society original commandments whatever goes upon two legs enemy whatever goes upon four legs wings friend animal shall wear clothes animal shall sleep bed animal shall drink alcohol animal shall kill animal animals equal later napoleon pigs secretly revise commandments clear accusations law breaking animal shall drink alcohol excess appended animal shall sleep bed sheets added changed commandments follows changes bolded animal shall sleep bed sheets animal shall drink alcohol excess animal shall kill animal without cause eventually replaced maxims animals equal animals equal others four legs good two legs better pigs become human ironic twist original purpose seven commandments supposed keep order within animal farm uniting animals together humans prevent animals following humans evil habits revision commandments orwell demonstrates simply political dogma turned malleable propaganda George Orwell Roman à clef Satire Children's literature Speculative fiction Fiction\""
            ],
            "application/vnd.google.colaboratory.intrinsic+json": {
              "type": "string"
            }
          },
          "metadata": {},
          "execution_count": 76
        }
      ]
    },
    {
      "cell_type": "code",
      "source": [
        "from sklearn.feature_extraction.text import CountVectorizer, TfidfVectorizer\n",
        "cv = CountVectorizer()\n",
        "count_matrix = cv.fit_transform(data['text_without_stopwords'])"
      ],
      "metadata": {
        "id": "f1urQIUPc0aE"
      },
      "execution_count": 77,
      "outputs": []
    },
    {
      "cell_type": "code",
      "source": [
        "count_matrix.shape"
      ],
      "metadata": {
        "colab": {
          "base_uri": "https://localhost:8080/"
        },
        "id": "0QrP8A3Ec_ql",
        "outputId": "42585f2e-539b-47a1-9f02-39a627517247"
      },
      "execution_count": 78,
      "outputs": [
        {
          "output_type": "execute_result",
          "data": {
            "text/plain": [
              "(12055, 112000)"
            ]
          },
          "metadata": {},
          "execution_count": 78
        }
      ]
    },
    {
      "cell_type": "code",
      "source": [
        "from sklearn.metrics.pairwise import cosine_similarity\n",
        "cosine = cosine_similarity(count_matrix, count_matrix)"
      ],
      "metadata": {
        "id": "5JgBcYcke3WS"
      },
      "execution_count": 79,
      "outputs": []
    },
    {
      "cell_type": "code",
      "execution_count": 80,
      "metadata": {
        "id": "yAC9DxIS22Au"
      },
      "outputs": [],
      "source": [
        "# Term frequency inverse document matrix\n",
        "\n",
        "tf = TfidfVectorizer(analyzer = \"word\", ngram_range=(1,2), min_df=0, stop_words='english')\n",
        "\n",
        "tfidf_matrix = tf.fit_transform(data['text_without_stopwords'])\n",
        "\n",
        "cosine2 =  cosine_similarity(tfidf_matrix, tfidf_matrix)"
      ]
    },
    {
      "cell_type": "code",
      "execution_count": 88,
      "metadata": {
        "id": "mzMJq0hp3NWy"
      },
      "outputs": [],
      "source": [
        "def get_title_from_index(Index):\n",
        "    return data[data.Index == Index].BookTitle.values[0]\n",
        "def get_index_from_title(BookTitle):\n",
        "    return data[data.BookTitle == BookTitle][\"Index\"].values[0]\n",
        "\n",
        "def get_recommendations(book):\n",
        "    book_index = get_index_from_title(book)\n",
        "    similar_books = list(enumerate(cosine[book_index]))\n",
        "    # print(similar_books)\n",
        "    sortedbooks = sorted(similar_books, key = lambda x:x[1], reverse=True)[1:]\n",
        "    # print(sortedbooks)\n",
        "    i = 0\n",
        "    for book in sortedbooks:\n",
        "        if data[data.Index==book[0]].shape[0]==0:\n",
        "          continue;\n",
        "        title = data[data.Index==book[0]].BookTitle\n",
        "        author = data[data.Index==book[0]].Author\n",
        "        print(title + \" by \" + author)\n",
        "        i = i+1\n",
        "        if i>10:\n",
        "            break"
      ]
    },
    {
      "cell_type": "code",
      "source": [
        "def get_title_from_index(Index):\n",
        "    return data[data.Index == Index].BookTitle.values[0]\n",
        "def get_index_from_title(BookTitle):\n",
        "    return data[data.BookTitle == BookTitle][\"Index\"].values[0]\n",
        "\n",
        "def get_recommendations2(book):\n",
        "    book_index = get_index_from_title(book)\n",
        "    similar_books = list(enumerate(cosine2[book_index]))\n",
        "    # print(similar_books)\n",
        "    sortedbooks = sorted(similar_books, key = lambda x:x[1], reverse=True)[1:]\n",
        "    # print(sortedbooks)\n",
        "    i = 0\n",
        "    for book in sortedbooks:\n",
        "        if data[data.Index==book[0]].shape[0]==0:\n",
        "          continue;\n",
        "        title = data[data.Index==book[0]].BookTitle\n",
        "        author = data[data.Index==book[0]].Author\n",
        "        print(title + \" by \" + author)\n",
        "        i = i+1\n",
        "        if i>10:\n",
        "            break"
      ],
      "metadata": {
        "id": "0GLCDthAwWcs"
      },
      "execution_count": 89,
      "outputs": []
    },
    {
      "cell_type": "code",
      "execution_count": 90,
      "metadata": {
        "colab": {
          "base_uri": "https://localhost:8080/"
        },
        "id": "hWYffeOD3R2J",
        "outputId": "f78a0da8-4b14-4fc0-b2fb-027fbcd4ecbf"
      },
      "outputs": [
        {
          "output_type": "stream",
          "name": "stdout",
          "text": [
            "4640    Planet of Judgment by Joe Haldeman\n",
            "dtype: object\n",
            "4651    Sassinak by Anne McCaffrey\n",
            "dtype: object\n",
            "11272    My Booky Wook by Russell Brand\n",
            "dtype: object\n",
            "2354    The Gold Bug Variations by Richard Powers\n",
            "dtype: object\n",
            "6655    Last Day in Limbo by Peter O'Donnell\n",
            "dtype: object\n",
            "1937    Idoru by William Gibson\n",
            "dtype: object\n",
            "7937    Star-Begotten by H. G. Wells\n",
            "dtype: object\n",
            "2179    Snow Country by Yasunari Kawabata\n",
            "dtype: object\n",
            "6541    Tragedy Day by Gareth Roberts\n",
            "dtype: object\n",
            "4118    Threshold by David R. Palmer\n",
            "dtype: object\n",
            "3899    Such a Long Journey by Rohinton Mistry\n",
            "dtype: object\n",
            "None\n"
          ]
        }
      ],
      "source": [
        "print(get_recommendations('Dune'))"
      ]
    },
    {
      "cell_type": "code",
      "source": [
        "print(get_recommendations2('Dune'))"
      ],
      "metadata": {
        "colab": {
          "base_uri": "https://localhost:8080/"
        },
        "id": "2r5A_YmtweRt",
        "outputId": "6dfc9ae9-b1ec-4703-8c49-6cdadf95109b"
      },
      "execution_count": 91,
      "outputs": [
        {
          "output_type": "stream",
          "name": "stdout",
          "text": [
            "4651    Sassinak by Anne McCaffrey\n",
            "dtype: object\n",
            "10125    Sticky Wicket at Blandings by P. G. Wodehouse\n",
            "dtype: object\n",
            "3985    The Swarm War by Troy Denning\n",
            "dtype: object\n",
            "2790    The Edge of the Cloud by K. M. Peyton\n",
            "dtype: object\n",
            "1978    Up the Down Staircase by Bel Kaufman\n",
            "dtype: object\n",
            "6399    Ancestors of Avalon by Marion Zimmer Bradley\n",
            "dtype: object\n",
            "10039    Evening Class by Maeve Binchy\n",
            "dtype: object\n",
            "1141    Galactic Pot-Healer by Philip K. Dick\n",
            "dtype: object\n",
            "466    Dreamcatcher by Stephen King\n",
            "dtype: object\n",
            "10813    Master of the Moon by Angela Knight\n",
            "dtype: object\n",
            "413    The Newcomes by William Makepeace Thackeray\n",
            "dtype: object\n",
            "None\n"
          ]
        }
      ]
    },
    {
      "cell_type": "code",
      "source": [
        "print(get_recommendations2('A Fire Upon the Deep'))"
      ],
      "metadata": {
        "id": "wmzvd8FzFzF5",
        "outputId": "09f0003d-8b4d-4bef-d515-dcf98b43298e",
        "colab": {
          "base_uri": "https://localhost:8080/"
        }
      },
      "execution_count": 92,
      "outputs": [
        {
          "output_type": "stream",
          "name": "stdout",
          "text": [
            "667    Trainspotting by Irvine Welsh\n",
            "dtype: object\n",
            "727    Trumps of Doom by Roger Zelazny\n",
            "dtype: object\n",
            "254    The Body by Stephen King\n",
            "dtype: object\n",
            "3123    The Haunting of Hill House by Shirley Jackson\n",
            "dtype: object\n",
            "426    War and Peace by Leo Tolstoy\n",
            "dtype: object\n",
            "1347    Congo by Michael Crichton\n",
            "dtype: object\n",
            "10814    Dark Melody by Christine Feehan\n",
            "dtype: object\n",
            "6884    The Assassin King by Elizabeth Haydon\n",
            "dtype: object\n",
            "7800    Ishmael by Barbara Hambly\n",
            "dtype: object\n",
            "5892    The Harsh Cry of the Heron by Gillian Rubinstein\n",
            "dtype: object\n",
            "684    The Turn of the Screw by Henry James\n",
            "dtype: object\n",
            "None\n"
          ]
        }
      ]
    }
  ],
  "metadata": {
    "colab": {
      "provenance": [],
      "mount_file_id": "1VFqGTlmGRmy5NvNJgXqvAAHFcFMwx_5l",
      "authorship_tag": "ABX9TyNQTt/pVv+V17RQUXNcRdKB",
      "include_colab_link": true
    },
    "kernelspec": {
      "display_name": "Python 3",
      "name": "python3"
    },
    "language_info": {
      "name": "python"
    }
  },
  "nbformat": 4,
  "nbformat_minor": 0
}