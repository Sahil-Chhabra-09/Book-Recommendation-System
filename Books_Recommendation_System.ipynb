{
  "cells": [
    {
      "cell_type": "markdown",
      "metadata": {
        "id": "view-in-github",
        "colab_type": "text"
      },
      "source": [
        "<a href=\"https://colab.research.google.com/github/Sahil-Chhabra-09/Book-Recommendation-System/blob/main/Books_Recommendation_System.ipynb\" target=\"_parent\"><img src=\"https://colab.research.google.com/assets/colab-badge.svg\" alt=\"Open In Colab\"/></a>"
      ]
    },
    {
      "cell_type": "markdown",
      "source": [
        "# Books Recommendation System based on Cosine Similarity"
      ],
      "metadata": {
        "id": "FNFdNiffWRJh"
      }
    },
    {
      "cell_type": "markdown",
      "source": [
        "## Getting the data"
      ],
      "metadata": {
        "id": "3vv6Wsk-ilJa"
      }
    },
    {
      "cell_type": "code",
      "execution_count": 192,
      "metadata": {
        "id": "V-OFbYv0vFai"
      },
      "outputs": [],
      "source": [
        "import pandas as pd\n",
        "data = pd.read_csv(\"/content/drive/MyDrive/Book Recommendation System/BooksData.xlsx\")"
      ]
    },
    {
      "cell_type": "markdown",
      "source": [
        "## Cleaning and Analyzing data"
      ],
      "metadata": {
        "id": "WmTF7EYcinoR"
      }
    },
    {
      "cell_type": "code",
      "execution_count": 193,
      "metadata": {
        "colab": {
          "base_uri": "https://localhost:8080/",
          "height": 223
        },
        "id": "SmF5bVAY0gUa",
        "outputId": "f4ad8677-7d5c-4c8e-bbef-31599c0c1b68"
      },
      "outputs": [
        {
          "output_type": "stream",
          "name": "stdout",
          "text": [
            "(16559, 7)\n"
          ]
        },
        {
          "output_type": "execute_result",
          "data": {
            "text/plain": [
              "   Unnamed: 0  Index    ID                                  BookTitle  \\\n",
              "0           0      1   620                                Animal Farm   \n",
              "1           1      2   843                         A Clockwork Orange   \n",
              "2           2      3   986                                 The Plague   \n",
              "3           3      4  1756  An Enquiry Concerning Human Understanding   \n",
              "4           4      5  2080                       A Fire Upon the Deep   \n",
              "\n",
              "            Author                                              Genre  \\\n",
              "0    George Orwell  {\"/m/016lj8\": \"Roman \\u00e0 clef\", \"/m/06nbt\":...   \n",
              "1  Anthony Burgess  {\"/m/06n90\": \"Science Fiction\", \"/m/0l67h\": \"N...   \n",
              "2     Albert Camus  {\"/m/02m4t\": \"Existentialism\", \"/m/02xlf\": \"Fi...   \n",
              "3       David Hume                                                NaN   \n",
              "4     Vernor Vinge  {\"/m/03lrw\": \"Hard science fiction\", \"/m/06n90...   \n",
              "\n",
              "                                             Summary  \n",
              "0   Old Major, the old boar on the Manor Farm, ca...  \n",
              "1   Alex, a teenager living in near-future Englan...  \n",
              "2   The text of The Plague is divided into five p...  \n",
              "3   The argument of the Enquiry proceeds by a ser...  \n",
              "4   The novel posits that space around the Milky ...  "
            ],
            "text/html": [
              "\n",
              "  <div id=\"df-edeaeba9-8e8c-43a6-b1f3-c110de1255ed\">\n",
              "    <div class=\"colab-df-container\">\n",
              "      <div>\n",
              "<style scoped>\n",
              "    .dataframe tbody tr th:only-of-type {\n",
              "        vertical-align: middle;\n",
              "    }\n",
              "\n",
              "    .dataframe tbody tr th {\n",
              "        vertical-align: top;\n",
              "    }\n",
              "\n",
              "    .dataframe thead th {\n",
              "        text-align: right;\n",
              "    }\n",
              "</style>\n",
              "<table border=\"1\" class=\"dataframe\">\n",
              "  <thead>\n",
              "    <tr style=\"text-align: right;\">\n",
              "      <th></th>\n",
              "      <th>Unnamed: 0</th>\n",
              "      <th>Index</th>\n",
              "      <th>ID</th>\n",
              "      <th>BookTitle</th>\n",
              "      <th>Author</th>\n",
              "      <th>Genre</th>\n",
              "      <th>Summary</th>\n",
              "    </tr>\n",
              "  </thead>\n",
              "  <tbody>\n",
              "    <tr>\n",
              "      <th>0</th>\n",
              "      <td>0</td>\n",
              "      <td>1</td>\n",
              "      <td>620</td>\n",
              "      <td>Animal Farm</td>\n",
              "      <td>George Orwell</td>\n",
              "      <td>{\"/m/016lj8\": \"Roman \\u00e0 clef\", \"/m/06nbt\":...</td>\n",
              "      <td>Old Major, the old boar on the Manor Farm, ca...</td>\n",
              "    </tr>\n",
              "    <tr>\n",
              "      <th>1</th>\n",
              "      <td>1</td>\n",
              "      <td>2</td>\n",
              "      <td>843</td>\n",
              "      <td>A Clockwork Orange</td>\n",
              "      <td>Anthony Burgess</td>\n",
              "      <td>{\"/m/06n90\": \"Science Fiction\", \"/m/0l67h\": \"N...</td>\n",
              "      <td>Alex, a teenager living in near-future Englan...</td>\n",
              "    </tr>\n",
              "    <tr>\n",
              "      <th>2</th>\n",
              "      <td>2</td>\n",
              "      <td>3</td>\n",
              "      <td>986</td>\n",
              "      <td>The Plague</td>\n",
              "      <td>Albert Camus</td>\n",
              "      <td>{\"/m/02m4t\": \"Existentialism\", \"/m/02xlf\": \"Fi...</td>\n",
              "      <td>The text of The Plague is divided into five p...</td>\n",
              "    </tr>\n",
              "    <tr>\n",
              "      <th>3</th>\n",
              "      <td>3</td>\n",
              "      <td>4</td>\n",
              "      <td>1756</td>\n",
              "      <td>An Enquiry Concerning Human Understanding</td>\n",
              "      <td>David Hume</td>\n",
              "      <td>NaN</td>\n",
              "      <td>The argument of the Enquiry proceeds by a ser...</td>\n",
              "    </tr>\n",
              "    <tr>\n",
              "      <th>4</th>\n",
              "      <td>4</td>\n",
              "      <td>5</td>\n",
              "      <td>2080</td>\n",
              "      <td>A Fire Upon the Deep</td>\n",
              "      <td>Vernor Vinge</td>\n",
              "      <td>{\"/m/03lrw\": \"Hard science fiction\", \"/m/06n90...</td>\n",
              "      <td>The novel posits that space around the Milky ...</td>\n",
              "    </tr>\n",
              "  </tbody>\n",
              "</table>\n",
              "</div>\n",
              "      <button class=\"colab-df-convert\" onclick=\"convertToInteractive('df-edeaeba9-8e8c-43a6-b1f3-c110de1255ed')\"\n",
              "              title=\"Convert this dataframe to an interactive table.\"\n",
              "              style=\"display:none;\">\n",
              "        \n",
              "  <svg xmlns=\"http://www.w3.org/2000/svg\" height=\"24px\"viewBox=\"0 0 24 24\"\n",
              "       width=\"24px\">\n",
              "    <path d=\"M0 0h24v24H0V0z\" fill=\"none\"/>\n",
              "    <path d=\"M18.56 5.44l.94 2.06.94-2.06 2.06-.94-2.06-.94-.94-2.06-.94 2.06-2.06.94zm-11 1L8.5 8.5l.94-2.06 2.06-.94-2.06-.94L8.5 2.5l-.94 2.06-2.06.94zm10 10l.94 2.06.94-2.06 2.06-.94-2.06-.94-.94-2.06-.94 2.06-2.06.94z\"/><path d=\"M17.41 7.96l-1.37-1.37c-.4-.4-.92-.59-1.43-.59-.52 0-1.04.2-1.43.59L10.3 9.45l-7.72 7.72c-.78.78-.78 2.05 0 2.83L4 21.41c.39.39.9.59 1.41.59.51 0 1.02-.2 1.41-.59l7.78-7.78 2.81-2.81c.8-.78.8-2.07 0-2.86zM5.41 20L4 18.59l7.72-7.72 1.47 1.35L5.41 20z\"/>\n",
              "  </svg>\n",
              "      </button>\n",
              "      \n",
              "  <style>\n",
              "    .colab-df-container {\n",
              "      display:flex;\n",
              "      flex-wrap:wrap;\n",
              "      gap: 12px;\n",
              "    }\n",
              "\n",
              "    .colab-df-convert {\n",
              "      background-color: #E8F0FE;\n",
              "      border: none;\n",
              "      border-radius: 50%;\n",
              "      cursor: pointer;\n",
              "      display: none;\n",
              "      fill: #1967D2;\n",
              "      height: 32px;\n",
              "      padding: 0 0 0 0;\n",
              "      width: 32px;\n",
              "    }\n",
              "\n",
              "    .colab-df-convert:hover {\n",
              "      background-color: #E2EBFA;\n",
              "      box-shadow: 0px 1px 2px rgba(60, 64, 67, 0.3), 0px 1px 3px 1px rgba(60, 64, 67, 0.15);\n",
              "      fill: #174EA6;\n",
              "    }\n",
              "\n",
              "    [theme=dark] .colab-df-convert {\n",
              "      background-color: #3B4455;\n",
              "      fill: #D2E3FC;\n",
              "    }\n",
              "\n",
              "    [theme=dark] .colab-df-convert:hover {\n",
              "      background-color: #434B5C;\n",
              "      box-shadow: 0px 1px 3px 1px rgba(0, 0, 0, 0.15);\n",
              "      filter: drop-shadow(0px 1px 2px rgba(0, 0, 0, 0.3));\n",
              "      fill: #FFFFFF;\n",
              "    }\n",
              "  </style>\n",
              "\n",
              "      <script>\n",
              "        const buttonEl =\n",
              "          document.querySelector('#df-edeaeba9-8e8c-43a6-b1f3-c110de1255ed button.colab-df-convert');\n",
              "        buttonEl.style.display =\n",
              "          google.colab.kernel.accessAllowed ? 'block' : 'none';\n",
              "\n",
              "        async function convertToInteractive(key) {\n",
              "          const element = document.querySelector('#df-edeaeba9-8e8c-43a6-b1f3-c110de1255ed');\n",
              "          const dataTable =\n",
              "            await google.colab.kernel.invokeFunction('convertToInteractive',\n",
              "                                                     [key], {});\n",
              "          if (!dataTable) return;\n",
              "\n",
              "          const docLinkHtml = 'Like what you see? Visit the ' +\n",
              "            '<a target=\"_blank\" href=https://colab.research.google.com/notebooks/data_table.ipynb>data table notebook</a>'\n",
              "            + ' to learn more about interactive tables.';\n",
              "          element.innerHTML = '';\n",
              "          dataTable['output_type'] = 'display_data';\n",
              "          await google.colab.output.renderOutput(dataTable, element);\n",
              "          const docLink = document.createElement('div');\n",
              "          docLink.innerHTML = docLinkHtml;\n",
              "          element.appendChild(docLink);\n",
              "        }\n",
              "      </script>\n",
              "    </div>\n",
              "  </div>\n",
              "  "
            ]
          },
          "metadata": {},
          "execution_count": 193
        }
      ],
      "source": [
        "print(data.shape)\n",
        "data.head()"
      ]
    },
    {
      "cell_type": "code",
      "execution_count": 194,
      "metadata": {
        "colab": {
          "base_uri": "https://localhost:8080/"
        },
        "id": "XqEeKCXQ0lfw",
        "outputId": "458eb242-fb51-4be0-e00c-8298ad8cd35b"
      },
      "outputs": [
        {
          "output_type": "execute_result",
          "data": {
            "text/plain": [
              "Unnamed: 0       0\n",
              "Index            0\n",
              "ID               0\n",
              "BookTitle        0\n",
              "Author        2382\n",
              "Genre         3718\n",
              "Summary          0\n",
              "dtype: int64"
            ]
          },
          "metadata": {},
          "execution_count": 194
        }
      ],
      "source": [
        "# counting null or empty values\n",
        "\n",
        "data.isna().sum()"
      ]
    },
    {
      "cell_type": "code",
      "execution_count": 195,
      "metadata": {
        "id": "LZitsNn60mw5"
      },
      "outputs": [],
      "source": [
        "# dropping columns with null values in Author or Genre\n",
        "\n",
        "data = data.drop(data[data['Genre'].isna()].index)\n",
        "data = data.drop(data[data['Author'].isna()].index)"
      ]
    },
    {
      "cell_type": "code",
      "execution_count": 196,
      "metadata": {
        "colab": {
          "base_uri": "https://localhost:8080/"
        },
        "id": "GKLj393z1Cep",
        "outputId": "e997b153-ac75-4942-a4f3-d0338facc005"
      },
      "outputs": [
        {
          "output_type": "execute_result",
          "data": {
            "text/plain": [
              "Unnamed: 0    0\n",
              "Index         0\n",
              "ID            0\n",
              "BookTitle     0\n",
              "Author        0\n",
              "Genre         0\n",
              "Summary       0\n",
              "dtype: int64"
            ]
          },
          "metadata": {},
          "execution_count": 196
        }
      ],
      "source": [
        "data.isna().sum()"
      ]
    },
    {
      "cell_type": "code",
      "execution_count": 197,
      "metadata": {
        "colab": {
          "base_uri": "https://localhost:8080/"
        },
        "id": "Y-f1OKD508Ca",
        "outputId": "bb3c2ac0-0450-4875-d422-c5e9d5de2fd2"
      },
      "outputs": [
        {
          "output_type": "execute_result",
          "data": {
            "text/plain": [
              "(12055, 7)"
            ]
          },
          "metadata": {},
          "execution_count": 197
        }
      ],
      "source": [
        "data.shape"
      ]
    },
    {
      "cell_type": "code",
      "execution_count": 198,
      "metadata": {
        "colab": {
          "base_uri": "https://localhost:8080/",
          "height": 244
        },
        "id": "Ujt8BQJ51lzY",
        "outputId": "168f222a-9765-43f9-bc6b-d0af8b596fc3"
      },
      "outputs": [
        {
          "output_type": "stream",
          "name": "stdout",
          "text": [
            "0        {\"/m/016lj8\": \"Roman \\u00e0 clef\", \"/m/06nbt\":...\n",
            "1        {\"/m/06n90\": \"Science Fiction\", \"/m/0l67h\": \"N...\n",
            "2        {\"/m/02m4t\": \"Existentialism\", \"/m/02xlf\": \"Fi...\n",
            "4        {\"/m/03lrw\": \"Hard science fiction\", \"/m/06n90...\n",
            "5        {\"/m/098tmk\": \"War novel\", \"/m/016lj8\": \"Roman...\n",
            "                               ...                        \n",
            "16549                      {\"/m/06n90\": \"Science Fiction\"}\n",
            "16551    {\"/m/01jfsb\": \"Thriller\", \"/m/02xlf\": \"Fiction...\n",
            "16555     {\"/m/01jfsb\": \"Thriller\", \"/m/02xlf\": \"Fiction\"}\n",
            "16556                         {\"/m/0xdf\": \"Autobiography\"}\n",
            "16558    {\"/m/02ql9\": \"Epistolary novel\", \"/m/014dfn\": ...\n",
            "Name: Genre, Length: 12055, dtype: object\n"
          ]
        },
        {
          "output_type": "execute_result",
          "data": {
            "text/plain": [
              "'{\"/m/016lj8\": \"Roman \\\\u00e0 clef\", \"/m/06nbt\": \"Satire\", \"/m/0dwly\": \"Children\\'s literature\", \"/m/014dfn\": \"Speculative fiction\", \"/m/02xlf\": \"Fiction\"}'"
            ],
            "application/vnd.google.colaboratory.intrinsic+json": {
              "type": "string"
            }
          },
          "metadata": {},
          "execution_count": 198
        }
      ],
      "source": [
        "print(data.Genre)\n",
        "data.Genre[0]   #Genre was in the form of a json object"
      ]
    },
    {
      "cell_type": "code",
      "execution_count": 199,
      "metadata": {
        "colab": {
          "base_uri": "https://localhost:8080/"
        },
        "id": "cwlQ24IJ182t",
        "outputId": "49c281a7-dfcd-4ef1-e950-7e00a38936e9"
      },
      "outputs": [
        {
          "output_type": "execute_result",
          "data": {
            "text/plain": [
              "[['Roman à clef',\n",
              "  'Satire',\n",
              "  \"Children's literature\",\n",
              "  'Speculative fiction',\n",
              "  'Fiction'],\n",
              " ['Science Fiction',\n",
              "  'Novella',\n",
              "  'Speculative fiction',\n",
              "  'Utopian and dystopian fiction',\n",
              "  'Satire',\n",
              "  'Fiction'],\n",
              " ['Existentialism', 'Fiction', 'Absurdist fiction', 'Novel'],\n",
              " ['Hard science fiction',\n",
              "  'Science Fiction',\n",
              "  'Speculative fiction',\n",
              "  'Fantasy',\n",
              "  'Fiction'],\n",
              " ['War novel', 'Roman à clef'],\n",
              " [\"Children's literature\",\n",
              "  'Fantasy',\n",
              "  'Speculative fiction',\n",
              "  'Bildungsroman',\n",
              "  'Fiction'],\n",
              " ['Science Fiction', 'Speculative fiction'],\n",
              " ['Science Fiction', 'Speculative fiction'],\n",
              " ['Speculative fiction', 'Fiction', 'Novel'],\n",
              " ['Science Fiction',\n",
              "  'Speculative fiction',\n",
              "  \"Children's literature\",\n",
              "  'Fiction']]"
            ]
          },
          "metadata": {},
          "execution_count": 199
        }
      ],
      "source": [
        "import json\n",
        "genres_cleaned = []\n",
        "for i in data['Genre']:\n",
        "    genres_cleaned.append(list(json.loads(i).values()))   #converts json string to dictionary which is further converted into list\n",
        "genres_cleaned[0:10]"
      ]
    },
    {
      "cell_type": "code",
      "execution_count": 200,
      "metadata": {
        "id": "mOpFPt0R2PEz"
      },
      "outputs": [],
      "source": [
        "# Generating another columns in data containing cleaned genre\n",
        "data['Genre'] = genres_cleaned"
      ]
    },
    {
      "cell_type": "code",
      "execution_count": 201,
      "metadata": {
        "colab": {
          "base_uri": "https://localhost:8080/",
          "height": 53
        },
        "id": "c1uG2B3B2ejw",
        "outputId": "5f4a9c66-8d73-48bd-c196-167d8af4217d"
      },
      "outputs": [
        {
          "output_type": "execute_result",
          "data": {
            "text/plain": [
              "\" Old Major, the old boar on the Manor Farm, calls the animals on the farm for a meeting, where he compares the humans to parasites and teaches the animals a revolutionary song, 'Beasts of England'. Wh\""
            ],
            "application/vnd.google.colaboratory.intrinsic+json": {
              "type": "string"
            }
          },
          "metadata": {},
          "execution_count": 201
        }
      ],
      "source": [
        "data.Summary[0][:200]"
      ]
    },
    {
      "cell_type": "markdown",
      "source": [
        "## Preprocessing Text\n",
        "  * removing some punctuatins, converting everything to lowercase\n",
        "  * removing stopwords\n",
        "  * stemming words"
      ],
      "metadata": {
        "id": "p6W7wyMuizwg"
      }
    },
    {
      "cell_type": "code",
      "execution_count": 202,
      "metadata": {
        "colab": {
          "base_uri": "https://localhost:8080/",
          "height": 53
        },
        "id": "jNkoXTvV2WEm",
        "outputId": "3b4d380c-5233-4d55-d9f2-4cf26e7168e3"
      },
      "outputs": [
        {
          "output_type": "execute_result",
          "data": {
            "text/plain": [
              "'old major the old boar on the manor farm calls the animals on the farm for a meeting where he compares the humans to parasites and teaches the animals a revolutionary song beasts of england when major'"
            ],
            "application/vnd.google.colaboratory.intrinsic+json": {
              "type": "string"
            }
          },
          "metadata": {},
          "execution_count": 202
        }
      ],
      "source": [
        "# Preprocessing Data by removing some punctuations and converting everything to lower case\n",
        "\n",
        "import re   #regular expression matching\n",
        "def clean_summary(text):\n",
        "    text = re.sub(\"\\'\", \"\", text)\n",
        "    text = re.sub(\"[^a-zA-Z]\",\" \",text)     #means any character that IS NOT a-z OR A-Z\n",
        "    text = ' '.join(text.split())\n",
        "    text = text.lower()\n",
        "    return text\n",
        "\n",
        "data['Summary'] = data['Summary'].apply(lambda x: clean_summary(x))\n",
        "data['Summary'][0][:200]"
      ]
    },
    {
      "cell_type": "code",
      "source": [
        "# from natural language toolkit downloading stopwords\n",
        "import nltk\n",
        "nltk.download('stopwords')\n",
        "from nltk.corpus import stopwords"
      ],
      "metadata": {
        "colab": {
          "base_uri": "https://localhost:8080/"
        },
        "id": "E8oGFf8JbEn0",
        "outputId": "b8bda81f-614b-429f-939b-20a653898c14"
      },
      "execution_count": 203,
      "outputs": [
        {
          "output_type": "stream",
          "name": "stderr",
          "text": [
            "[nltk_data] Downloading package stopwords to /root/nltk_data...\n",
            "[nltk_data]   Package stopwords is already up-to-date!\n"
          ]
        }
      ]
    },
    {
      "cell_type": "code",
      "source": [
        "# converting genre values which are of type list to a single space seperated string\n",
        "data['GenreString'] = data['Genre'].apply(lambda x: ' '.join(x))"
      ],
      "metadata": {
        "id": "RztVh7ReaLCF"
      },
      "execution_count": 204,
      "outputs": []
    },
    {
      "cell_type": "code",
      "source": [
        "data['GenreString'][0]"
      ],
      "metadata": {
        "colab": {
          "base_uri": "https://localhost:8080/",
          "height": 36
        },
        "id": "0GRK_GoNaN4j",
        "outputId": "5c68ead7-d65e-41a0-efe8-f371d5e09090"
      },
      "execution_count": 205,
      "outputs": [
        {
          "output_type": "execute_result",
          "data": {
            "text/plain": [
              "\"Roman à clef Satire Children's literature Speculative fiction Fiction\""
            ],
            "application/vnd.google.colaboratory.intrinsic+json": {
              "type": "string"
            }
          },
          "metadata": {},
          "execution_count": 205
        }
      ]
    },
    {
      "cell_type": "code",
      "source": [
        "#get a combined text that includes author's name and associated genres\n",
        "data[\"combined_text\"] = data[\"Summary\"] + \" \" + data[\"Author\"] + \" \" + data[\"GenreString\"]"
      ],
      "metadata": {
        "id": "QV-9Qw38auRw"
      },
      "execution_count": 206,
      "outputs": []
    },
    {
      "cell_type": "code",
      "source": [
        "data[\"combined_text\"]"
      ],
      "metadata": {
        "colab": {
          "base_uri": "https://localhost:8080/"
        },
        "id": "T9vtPne4Xu-r",
        "outputId": "cf04cbd6-c57f-4867-cbe8-47d92b0e09bf"
      },
      "execution_count": 207,
      "outputs": [
        {
          "output_type": "execute_result",
          "data": {
            "text/plain": [
              "0        old major the old boar on the manor farm calls...\n",
              "1        alex a teenager living in near future england ...\n",
              "2        the text of the plague is divided into five pa...\n",
              "4        the novel posits that space around the milky w...\n",
              "5        the book tells the story of paul b umer a germ...\n",
              "                               ...                        \n",
              "16549    the story starts with former government agent ...\n",
              "16551    the series follows the character of nick stone...\n",
              "16555    the reader first meets rapp while he is doing ...\n",
              "16556    the book follows very rough chronological orde...\n",
              "16558    makar devushkin and varvara dobroselova are se...\n",
              "Name: combined_text, Length: 12055, dtype: object"
            ]
          },
          "metadata": {},
          "execution_count": 207
        }
      ]
    },
    {
      "cell_type": "code",
      "source": [
        "# removing stopwords\n",
        "stopwords_english = stopwords.words(\"english\")\n",
        "# data['text_without_stopwords'] = data['combined_text'].apply(lambda x: ' '.join([word for word in x.split() if word not in (stopwords_english)]))\n",
        "data['text_without_stopwords'] = data['combined_text'].apply(lambda x: [word for word in x.split() if word not in (stopwords_english)])"
      ],
      "metadata": {
        "id": "wfLuHI3iaxNu"
      },
      "execution_count": 208,
      "outputs": []
    },
    {
      "cell_type": "code",
      "source": [
        "from nltk.stem import PorterStemmer\n",
        "stemmer = PorterStemmer()\n",
        "\n",
        "def stem_list(text):\n",
        "  # Create an empty list to store the stems\n",
        "  text_stem = [] \n",
        "\n",
        "  for word in text:\n",
        "      stem_word = stemmer.stem(word)  # stemming word\n",
        "      text_stem.append(stem_word)  # append to the list\n",
        "  return ' '.join(text_stem)"
      ],
      "metadata": {
        "id": "lkFj6xTld_pa"
      },
      "execution_count": 209,
      "outputs": []
    },
    {
      "cell_type": "code",
      "source": [
        "data['text_without_stopwords'] = data['text_without_stopwords'].apply(stem_list)"
      ],
      "metadata": {
        "id": "wuT5csiQdTQ2"
      },
      "execution_count": 210,
      "outputs": []
    },
    {
      "cell_type": "code",
      "source": [
        "data['text_without_stopwords'][0]"
      ],
      "metadata": {
        "colab": {
          "base_uri": "https://localhost:8080/",
          "height": 123
        },
        "id": "DfbLO53xfoYe",
        "outputId": "d9c34a4e-ec2b-4496-9a1c-f2a32d10ab16"
      },
      "execution_count": 211,
      "outputs": [
        {
          "output_type": "execute_result",
          "data": {
            "text/plain": [
              "\"old major old boar manor farm call anim farm meet compar human parasit teach anim revolutionari song beast england major die two young pig snowbal napoleon assum command turn dream philosophi anim revolt drive drunken irrespons mr jone farm renam anim farm adopt seven command anim ism import anim equal snowbal attempt teach anim read write food plenti farm run smoothli pig elev posit leadership set asid special food item ostens person health napoleon take pup farm dog train privat napoleon snowbal struggl leadership snowbal announc plan build windmil napoleon dog chase snowbal away declar leader napoleon enact chang govern structur farm replac meet committe pig run farm use young pig name squealer mouthpiec napoleon claim credit windmil idea anim work harder promis easier live windmil violent storm anim find windmil annihil napoleon squealer convinc anim snowbal destroy although scorn neighbour farmer suggest wall thin snowbal becom scapegoat napoleon begin purg farm dog kill anim accus consort old rival pig abus power impos control reserv privileg rewrit histori villainis snowbal glorifi napoleon squealer justifi everi statement napoleon make even pig alter seven command anim benefit beast england replac anthem glorifi napoleon appear adopt lifestyl man anim remain convinc better mr jone squealer abus anim poor memori invent number show improv mr frederick one neighbour farmer attack farm use blast powder blow restor windmil though anim win battl great cost mani includ boxer workhors wound despit injuri boxer continu work harder harder collaps work windmil napoleon send van take boxer veterinari surgeon explain better care given benjamin cynic donkey could read well pig notic van belong knacker attempt mount rescu anim attempt futil squealer report van purchas hospit write previou owner repaint recount tale boxer death hand best medic care year pass pig learn walk upright carri whip wear cloth seven command reduc singl phrase anim equal anim equal other napoleon hold dinner parti pig human area congratul napoleon hardest work least fed anim countri napoleon announc allianc human labour class world abolish practic tradit relat revolut chang name farm manor farm anim overhear convers notic face pig begun chang poker match argument break napoleon mr pilkington anim realis face pig look like face human one tell differ pig snowbal napoleon squealer adapt old major idea actual philosophi formal name anim soon napoleon squealer indulg vice human drink alcohol sleep bed trade squealer employ alter seven command account humanis allus soviet govern revis histori order exercis control peopl belief societi origin command whatev goe upon two leg enemi whatev goe upon four leg wing friend anim shall wear cloth anim shall sleep bed anim shall drink alcohol anim shall kill anim anim equal later napoleon pig secretli revis command clear accus law break anim shall drink alcohol excess append anim shall sleep bed sheet ad chang command follow chang bold anim shall sleep bed sheet anim shall drink alcohol excess anim shall kill anim without caus eventu replac maxim anim equal anim equal other four leg good two leg better pig becom human iron twist origin purpos seven command suppos keep order within anim farm unit anim togeth human prevent anim follow human evil habit revis command orwel demonstr simpli polit dogma turn malleabl propaganda georg orwel roman à clef satir children' literatur specul fiction fiction\""
            ],
            "application/vnd.google.colaboratory.intrinsic+json": {
              "type": "string"
            }
          },
          "metadata": {},
          "execution_count": 211
        }
      ]
    },
    {
      "cell_type": "markdown",
      "source": [
        "## Building a document term matrix"
      ],
      "metadata": {
        "id": "GzzYqB_RjPNK"
      }
    },
    {
      "cell_type": "code",
      "source": [
        "from sklearn.feature_extraction.text import CountVectorizer\n",
        "cv = CountVectorizer()\n",
        "# Building a document term matrix\n",
        "count_matrix = cv.fit_transform(data['text_without_stopwords'])"
      ],
      "metadata": {
        "id": "f1urQIUPc0aE"
      },
      "execution_count": 212,
      "outputs": []
    },
    {
      "cell_type": "code",
      "source": [
        "count_matrix.shape"
      ],
      "metadata": {
        "colab": {
          "base_uri": "https://localhost:8080/"
        },
        "id": "0QrP8A3Ec_ql",
        "outputId": "aa44c7df-0da1-48ce-d799-1f1a81cdfa7d"
      },
      "execution_count": 213,
      "outputs": [
        {
          "output_type": "execute_result",
          "data": {
            "text/plain": [
              "(12055, 75823)"
            ]
          },
          "metadata": {},
          "execution_count": 213
        }
      ]
    },
    {
      "cell_type": "markdown",
      "source": [
        "## creating Cosine Similarity matrix"
      ],
      "metadata": {
        "id": "Gpq0OAJrjb1E"
      }
    },
    {
      "cell_type": "code",
      "source": [
        "from sklearn.metrics.pairwise import cosine_similarity\n",
        "cosine = cosine_similarity(count_matrix, count_matrix)"
      ],
      "metadata": {
        "id": "5JgBcYcke3WS"
      },
      "execution_count": 214,
      "outputs": []
    },
    {
      "cell_type": "markdown",
      "source": [
        "## Recommendation system based on cosine similarity"
      ],
      "metadata": {
        "id": "uN31e8YFjgbs"
      }
    },
    {
      "cell_type": "code",
      "execution_count": 215,
      "metadata": {
        "id": "mzMJq0hp3NWy"
      },
      "outputs": [],
      "source": [
        "def get_title_from_index(Index):\n",
        "    return data[data.Index == Index].BookTitle.values[0]\n",
        "def get_index_from_title(BookTitle):\n",
        "    return data[data.BookTitle == BookTitle][\"Index\"].values[0]\n",
        "\n",
        "def get_recommendations(book):\n",
        "    book_index = get_index_from_title(book)\n",
        "    similar_books = list(enumerate(cosine[book_index]))\n",
        "    # print(similar_books)\n",
        "    sortedbooks = sorted(similar_books, key = lambda x:x[1], reverse=True)[1:]\n",
        "    # print(sortedbooks)\n",
        "    i = 0\n",
        "    for book in sortedbooks:\n",
        "        if data[data.Index==book[0]].shape[0]==0:\n",
        "          continue;\n",
        "        title = data[data.Index==book[0]].BookTitle\n",
        "        author = data[data.Index==book[0]].Author\n",
        "        print(title + \" by \" + author)\n",
        "        i = i+1\n",
        "        if i>10:\n",
        "            break"
      ]
    },
    {
      "cell_type": "markdown",
      "source": [
        "## Getting Recommendations"
      ],
      "metadata": {
        "id": "WbFrCSWbjYnh"
      }
    },
    {
      "cell_type": "code",
      "execution_count": 216,
      "metadata": {
        "colab": {
          "base_uri": "https://localhost:8080/"
        },
        "id": "hWYffeOD3R2J",
        "outputId": "fc6a7978-a51b-4d32-88ce-493281742647"
      },
      "outputs": [
        {
          "output_type": "stream",
          "name": "stdout",
          "text": [
            "1937    Idoru by William Gibson\n",
            "dtype: object\n",
            "4651    Sassinak by Anne McCaffrey\n",
            "dtype: object\n",
            "11272    My Booky Wook by Russell Brand\n",
            "dtype: object\n",
            "2179    Snow Country by Yasunari Kawabata\n",
            "dtype: object\n",
            "7355    King, Queen, Knave by Vladimir Vladimirovich N...\n",
            "dtype: object\n",
            "823    Family Matters by Rohinton Mistry\n",
            "dtype: object\n",
            "10743    The Murderer is a Fox by Frederic Dannay\n",
            "dtype: object\n",
            "7937    Star-Begotten by H. G. Wells\n",
            "dtype: object\n",
            "10626    Misquoting Jesus by Bart D. Ehrman\n",
            "dtype: object\n",
            "2354    The Gold Bug Variations by Richard Powers\n",
            "dtype: object\n",
            "5708    Last of the Gaderene by Mark Gatiss\n",
            "dtype: object\n",
            "None\n"
          ]
        }
      ],
      "source": [
        "print(get_recommendations('Dune'))"
      ]
    },
    {
      "cell_type": "code",
      "source": [
        "print(get_recommendations('A Fire Upon the Deep'))"
      ],
      "metadata": {
        "id": "wmzvd8FzFzF5",
        "outputId": "84c56054-0f06-4163-d68c-549695ba3703",
        "colab": {
          "base_uri": "https://localhost:8080/"
        }
      },
      "execution_count": 217,
      "outputs": [
        {
          "output_type": "stream",
          "name": "stdout",
          "text": [
            "667    Trainspotting by Irvine Welsh\n",
            "dtype: object\n",
            "254    The Body by Stephen King\n",
            "dtype: object\n",
            "727    Trumps of Doom by Roger Zelazny\n",
            "dtype: object\n",
            "9380    The Strategy Paradox by Michael E. Raynor\n",
            "dtype: object\n",
            "1347    Congo by Michael Crichton\n",
            "dtype: object\n",
            "426    War and Peace by Leo Tolstoy\n",
            "dtype: object\n",
            "863    The Master and Margarita by Mikhail Bulgakov\n",
            "dtype: object\n",
            "6541    Tragedy Day by Gareth Roberts\n",
            "dtype: object\n",
            "1937    Idoru by William Gibson\n",
            "dtype: object\n",
            "5593    1633 by Eric Flint\n",
            "dtype: object\n",
            "9063    Appley Dapply's Nursery Rhymes by Beatrix Potter\n",
            "dtype: object\n",
            "None\n"
          ]
        }
      ]
    }
  ],
  "metadata": {
    "colab": {
      "provenance": [],
      "mount_file_id": "1VFqGTlmGRmy5NvNJgXqvAAHFcFMwx_5l",
      "authorship_tag": "ABX9TyP/f2UloB3JqR1hKYqMBNwg",
      "include_colab_link": true
    },
    "kernelspec": {
      "display_name": "Python 3",
      "name": "python3"
    },
    "language_info": {
      "name": "python"
    }
  },
  "nbformat": 4,
  "nbformat_minor": 0
}